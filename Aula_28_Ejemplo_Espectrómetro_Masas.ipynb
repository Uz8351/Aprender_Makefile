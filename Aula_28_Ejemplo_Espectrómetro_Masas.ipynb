{
  "nbformat": 4,
  "nbformat_minor": 0,
  "metadata": {
    "colab": {
      "provenance": [],
      "authorship_tag": "ABX9TyO9ak7W/jCIM1eXcy/BhiLp",
      "include_colab_link": true
    },
    "kernelspec": {
      "name": "python3",
      "display_name": "Python 3"
    },
    "language_info": {
      "name": "python"
    }
  },
  "cells": [
    {
      "cell_type": "markdown",
      "metadata": {
        "id": "view-in-github",
        "colab_type": "text"
      },
      "source": [
        "<a href=\"https://colab.research.google.com/github/Uz8351/Aprender_Makefile/blob/master/Aula_28_Ejemplo_Espectr%C3%B3metro_Masas.ipynb\" target=\"_parent\"><img src=\"https://colab.research.google.com/assets/colab-badge.svg\" alt=\"Open In Colab\"/></a>"
      ]
    },
    {
      "cell_type": "code",
      "execution_count": null,
      "metadata": {
        "id": "lNdBvFbC4Pvr"
      },
      "outputs": [],
      "source": [
        "\n",
        "#Ejecución bajo consola Linux\n",
        "#python3 Aula_28_Ag.24_Espectro_Masas.py\n",
        "\n",
        "import numpy as np\n",
        "import matplotlib.pyplot as plt\n",
        "\n",
        "# Definir las relaciones masa/carga (m/z) para los fragmentos de agua\n",
        "mz_values = {\n",
        "    'H2O+': 18,  # Ion molecular de agua\n",
        "    'OH+': 17,   # Fragmento OH\n",
        "    'O+': 16,    # Fragmento O\n",
        "    'H+': 1      # Fragmento H\n",
        "}\n",
        "\n",
        "# Intensidades relativas de los picos (asumiendo que son simples)\n",
        "intensities = {\n",
        "    'H2O+': 1.0,\n",
        "    'OH+': 0.8,\n",
        "    'O+': 0.5,\n",
        "    'H+': 0.2\n",
        "}\n",
        "\n",
        "# Crear un espectro de masas simulado\n",
        "m_z = np.arange(0, 20, 0.1)  # Crear un rango de m/z\n",
        "spectrum = np.zeros_like(m_z)\n",
        "\n",
        "# Función para crear un pico gaussiano en el espectro\n",
        "def gaussian_peak(x, center, width):\n",
        "    return np.exp(-((x - center) ** 2) / (2 * width ** 2))\n",
        "\n",
        "# Agregar los picos correspondientes a cada fragmento\n",
        "for ion, mz in mz_values.items():\n",
        "    peak = gaussian_peak(m_z, mz, 0.1) * intensities[ion]\n",
        "    spectrum += peak\n",
        "\n",
        "# Normalizar el espectro\n",
        "spectrum /= np.max(spectrum)\n",
        "\n",
        "# Visualización gráfica\n",
        "plt.figure(figsize=(10, 6))\n",
        "plt.plot(m_z, spectrum, label=\"Espectro de Masas\")\n",
        "plt.xlabel(\"m/z\")\n",
        "plt.ylabel(\"Intensidad relativa\")\n",
        "plt.title(\"Simulación de Espectrometría de Masas para H₂O\")\n",
        "plt.legend()\n",
        "plt.grid(True)\n",
        "plt.show()"
      ]
    }
  ]
}