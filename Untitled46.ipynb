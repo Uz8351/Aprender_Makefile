{
  "nbformat": 4,
  "nbformat_minor": 0,
  "metadata": {
    "colab": {
      "provenance": [],
      "authorship_tag": "ABX9TyP4M+Muf6xIaBMLQSt2Mox9",
      "include_colab_link": true
    },
    "kernelspec": {
      "name": "python3",
      "display_name": "Python 3"
    },
    "language_info": {
      "name": "python"
    }
  },
  "cells": [
    {
      "cell_type": "markdown",
      "metadata": {
        "id": "view-in-github",
        "colab_type": "text"
      },
      "source": [
        "<a href=\"https://colab.research.google.com/github/Uz8351/Aprender_Makefile/blob/main/Untitled46.ipynb\" target=\"_parent\"><img src=\"https://colab.research.google.com/assets/colab-badge.svg\" alt=\"Open In Colab\"/></a>"
      ]
    },
    {
      "cell_type": "code",
      "execution_count": 3,
      "metadata": {
        "colab": {
          "base_uri": "https://localhost:8080/"
        },
        "id": "vYcWAAuXdoSr",
        "outputId": "55fe661f-b1d4-454c-b79b-67d89774f23e"
      },
      "outputs": [
        {
          "output_type": "stream",
          "name": "stdout",
          "text": [
            "Determinar el area de un triangulo\n",
            "Introduce la Base:3.44454\n",
            "Introduce la Altura:4.466\n",
            "El Area total del triángulo es: 7.6916578200000005\n"
          ]
        }
      ],
      "source": [
        "#Programa que determina el area de un triángulo\n",
        "print(\"Determinar el area de un triangulo\")\n",
        "def FuncionTriangulo():\n",
        "  Base=float(input(\"Introduce la Base:\"))\n",
        "  Altura=float(input(\"Introduce la Altura:\"))\n",
        "  AreaTriangulo=(Base*Altura)/2\n",
        "  return AreaTriangulo\n",
        "AreaTriangulo=FuncionTriangulo()\n",
        "print(\"El Area total del triángulo es:\",AreaTriangulo)"
      ]
    }
  ]
}