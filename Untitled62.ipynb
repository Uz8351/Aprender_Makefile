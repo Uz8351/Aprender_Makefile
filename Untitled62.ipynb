{
  "nbformat": 4,
  "nbformat_minor": 0,
  "metadata": {
    "colab": {
      "provenance": [],
      "authorship_tag": "ABX9TyP62niPvTQpimHyKm+X1Oj2",
      "include_colab_link": true
    },
    "kernelspec": {
      "name": "python3",
      "display_name": "Python 3"
    },
    "language_info": {
      "name": "python"
    }
  },
  "cells": [
    {
      "cell_type": "markdown",
      "metadata": {
        "id": "view-in-github",
        "colab_type": "text"
      },
      "source": [
        "<a href=\"https://colab.research.google.com/github/Uz8351/Aprender_Makefile/blob/main/Untitled62.ipynb\" target=\"_parent\"><img src=\"https://colab.research.google.com/assets/colab-badge.svg\" alt=\"Open In Colab\"/></a>"
      ]
    },
    {
      "cell_type": "code",
      "execution_count": 3,
      "metadata": {
        "colab": {
          "base_uri": "https://localhost:8080/",
          "height": 208
        },
        "id": "dwz4uOz5SiVG",
        "outputId": "563f0aff-4c8e-45ac-8953-1db7f9540b67"
      },
      "outputs": [
        {
          "output_type": "display_data",
          "data": {
            "text/plain": [
              "<Figure size 200x200 with 1 Axes>"
            ],
            "image/png": "[encoded data removed]"
          },
          "metadata": {}
        },
        {
          "output_type": "stream",
          "name": "stdout",
          "text": [
            "El color correspondiente a la longitud de onda 700 nm es: (1.0, 0.0, 0.0)\n"
          ]
        }
      ],
      "source": [
        "import matplotlib.pyplot as plt\n",
        "\n",
        "def determinar_color(longitud_onda):\n",
        "    # Espectro visible: longitud de onda en nanómetros\n",
        "    # 380-450 nm -> Violeta\n",
        "    # 450-495 nm -> Azul\n",
        "    # 495-570 nm -> Verde\n",
        "    # 570-590 nm -> Amarillo\n",
        "    # 590-620 nm -> Naranja\n",
        "    # 620-750 nm -> Rojo\n",
        "\n",
        "    if 380 <= longitud_onda <= 450:\n",
        "        return (139/255, 0/255, 255/255)  # Violeta\n",
        "    elif 450 < longitud_onda <= 495:\n",
        "        return (0/255, 0/255, 255/255)    # Azul\n",
        "    elif 495 < longitud_onda <= 570:\n",
        "        return (0/255, 255/255, 0/255)    # Verde\n",
        "    elif 570 < longitud_onda <= 590:\n",
        "        return (255/255, 255/255, 0/255)  # Amarillo\n",
        "    elif 590 < longitud_onda <= 620:\n",
        "        return (255/255, 127/255, 0/255)  # Naranja\n",
        "    elif 620 < longitud_onda <= 750:\n",
        "        return (255/255, 0/255, 0/255)    # Rojo\n",
        "    else:\n",
        "        return (0, 0, 0)  # Fuera del espectro visible (Negro)\n",
        "\n",
        "# Longitud de onda dada\n",
        "longitud_onda = 700  # en nanómetros\n",
        "\n",
        "# Determinar el color\n",
        "color_rgb = determinar_color(longitud_onda)\n",
        "\n",
        "# Mostrar el color gráficamente\n",
        "plt.figure(figsize=(2, 2))\n",
        "plt.imshow([[color_rgb]])\n",
        "plt.axis('off')  # Quitar los ejes\n",
        "plt.show()\n",
        "\n",
        "print(f\"El color correspondiente a la longitud de onda {longitud_onda} nm es: {color_rgb}\")\n"
      ]
    },
    {
      "cell_type": "code",
      "source": [
        "import matplotlib.pyplot as plt\n",
        "\n",
        "# Velocidad de la luz en metros por segundo\n",
        "c = 3 * 10**8\n",
        "\n",
        "def determinar_color(frecuencia, longitud_onda):\n",
        "    # Convertir longitud de onda de nanómetros a metros\n",
        "    longitud_onda_metros = longitud_onda * 10**-9\n",
        "\n",
        "    # Calcular la frecuencia correspondiente a la longitud de onda\n",
        "    frecuencia_calculada = c / longitud_onda_metros\n",
        "\n",
        "    # Comparar la frecuencia dada con la calculada\n",
        "    if abs(frecuencia - frecuencia_calculada) > 1e12:  # Tolerancia de 1 THz\n",
        "        return None, None  # Retorna None si no coinciden\n",
        "\n",
        "    # Espectro visible: longitud de onda en nanómetros\n",
        "    if 380 <= longitud_onda <= 450:\n",
        "        return (139/255, 0/255, 255/255), \"Violeta\"\n",
        "    elif 450 < longitud_onda <= 495:\n",
        "        return (0/255, 0/255, 255/255), \"Azul\"\n",
        "    elif 495 < longitud_onda <= 570:\n",
        "        return (0/255, 255/255, 0/255), \"Verde\"\n",
        "    elif 570 < longitud_onda <= 590:\n",
        "        return (255/255, 255/255, 0/255), \"Amarillo\"\n",
        "    elif 590 < longitud_onda <= 620:\n",
        "        return (255/255, 127/255, 0/255), \"Naranja\"\n",
        "    elif 620 < longitud_onda <= 750:\n",
        "        return (255/255, 0/255, 0/255), \"Rojo\"\n",
        "    else:\n",
        "        return (0, 0, 0), \"Fuera del espectro visible\"\n",
        "\n",
        "# Datos dados\n",
        "frecuencia = 7.5 * 10**14  # en Hz\n",
        "longitud_onda = 400.000000008  # en nanómetros\n",
        "\n",
        "# Determinar el color\n",
        "color_rgb, color_nombre = determinar_color(frecuencia, longitud_onda)\n",
        "\n",
        "if color_rgb is None:\n",
        "    print(\"La frecuencia y la longitud de onda no coinciden en el espectro visible.\")\n",
        "else:\n",
        "    # Mostrar el color gráficamente\n",
        "    plt.figure(figsize=(2, 2))\n",
        "    plt.imshow([[color_rgb]])\n",
        "    plt.axis('off')  # Quitar los ejes\n",
        "    plt.show()\n",
        "\n",
        "    print(f\"El color correspondiente a la frecuencia {frecuencia:.2e} Hz y longitud de onda {longitud_onda} nm es: {color_nombre}\")\n"
      ],
      "metadata": {
        "colab": {
          "base_uri": "https://localhost:8080/",
          "height": 208
        },
        "id": "7PTnTLWnTrmz",
        "outputId": "26e2c83b-d2c5-44b2-909b-6ea8755d823b"
      },
      "execution_count": 14,
      "outputs": [
        {
          "output_type": "display_data",
          "data": {
            "text/plain": [
              "<Figure size 200x200 with 1 Axes>"
            ],
            "image/png": "[encoded data removed]"
          },
          "metadata": {}
        },
        {
          "output_type": "stream",
          "name": "stdout",
          "text": [
            "El color correspondiente a la frecuencia 7.50e+14 Hz y longitud de onda 400.000000008 nm es: Violeta\n"
          ]
        }
      ]
    }
  ]
}