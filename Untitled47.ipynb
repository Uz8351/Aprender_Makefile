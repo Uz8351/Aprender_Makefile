{
  "nbformat": 4,
  "nbformat_minor": 0,
  "metadata": {
    "colab": {
      "provenance": [],
      "authorship_tag": "ABX9TyMRAcVyo8TGu53+gQM/RMgT",
      "include_colab_link": true
    },
    "kernelspec": {
      "name": "python3",
      "display_name": "Python 3"
    },
    "language_info": {
      "name": "python"
    }
  },
  "cells": [
    {
      "cell_type": "markdown",
      "metadata": {
        "id": "view-in-github",
        "colab_type": "text"
      },
      "source": [
        "<a href=\"https://colab.research.google.com/github/Uz8351/Aprender_Makefile/blob/main/Untitled47.ipynb\" target=\"_parent\"><img src=\"https://colab.research.google.com/assets/colab-badge.svg\" alt=\"Open In Colab\"/></a>"
      ]
    },
    {
      "cell_type": "code",
      "execution_count": null,
      "metadata": {
        "colab": {
          "base_uri": "https://localhost:8080/"
        },
        "id": "9HjyUMb_0PL6",
        "outputId": "00136562-bcf4-4e01-f0ee-5d7c7e561ce1"
      },
      "outputs": [
        {
          "output_type": "stream",
          "name": "stdout",
          "text": [
            "Epoch 1/7\n",
            "1/1 [==============================] - 1s 1s/step - loss: 26548.1250\n",
            "Epoch 2/7\n",
            "1/1 [==============================] - 0s 11ms/step - loss: 26546.9082\n",
            "Epoch 3/7\n",
            "1/1 [==============================] - 0s 31ms/step - loss: 26545.6992\n",
            "Epoch 4/7\n",
            "1/1 [==============================] - 0s 23ms/step - loss: 26544.4883\n",
            "Epoch 5/7\n",
            "1/1 [==============================] - 0s 12ms/step - loss: 26543.2832\n",
            "Epoch 6/7\n",
            "1/1 [==============================] - 0s 14ms/step - loss: 26542.0840\n",
            "Epoch 7/7\n",
            "1/1 [==============================] - 0s 19ms/step - loss: 26540.8887\n",
            "Introduce los 7 bits de entrada (0 o 1 separados por espacios): 1 0 1 1 0 0 1\n",
            "1/1 [==============================] - 0s 104ms/step\n",
            "Grados Celsius: 0.31082919239997864\n",
            "Grados Fahrenheit: -1.0270081758499146\n",
            "Introduce los 7 bits de entrada (0 o 1 separados por espacios): 1 1 0 0 1 1 1\n",
            "1/1 [==============================] - 0s 22ms/step\n",
            "Grados Celsius: 0.1821427345275879\n",
            "Grados Fahrenheit: -0.5887443423271179\n",
            "Introduce los 7 bits de entrada (0 o 1 separados por espacios): 1 1 1 1 0 0 0\n",
            "1/1 [==============================] - 0s 21ms/step\n",
            "Grados Celsius: 0.1784210354089737\n",
            "Grados Fahrenheit: -0.5175974369049072\n",
            "Introduce los 7 bits de entrada (0 o 1 separados por espacios): 0 0 0 0 1 1 1\n",
            "1/1 [==============================] - 0s 23ms/step\n",
            "Grados Celsius: 0.22161583602428436\n",
            "Grados Fahrenheit: -0.7231767177581787\n",
            "Introduce los 7 bits de entrada (0 o 1 separados por espacios): 1 1 10 1 1 1\n",
            "¡Error! Debes introducir exactamente 7 bits de entrada.\n",
            "Introduce los 7 bits de entrada (0 o 1 separados por espacios): 0  0 0 1 1 0 1\n",
            "1/1 [==============================] - 0s 23ms/step\n",
            "Grados Celsius: 0.2949793338775635\n",
            "Grados Fahrenheit: -0.973028838634491\n",
            "Introduce los 7 bits de entrada (0 o 1 separados por espacios): 1 1 1 0 0 1 1\n",
            "1/1 [==============================] - 0s 22ms/step\n",
            "Grados Celsius: 0.12973035871982574\n",
            "Grados Fahrenheit: -0.3685901165008545\n",
            "Introduce los 7 bits de entrada (0 o 1 separados por espacios): 1 1 1 1 1 1 1\n",
            "1/1 [==============================] - 0s 24ms/step\n",
            "Grados Celsius: 0.14897774159908295\n",
            "Grados Fahrenheit: -0.42749258875846863\n"
          ]
        }
      ],
      "source": [
        "import tensorflow as tf\n",
        "import numpy as np\n",
        "\n",
        "# Definir los datos de entrenamiento\n",
        "entradas = np.zeros((7, 7))\n",
        "for i in range(7):\n",
        "    entradas[i, i] = 1.0  # Configurar un bit activo en cada entrada\n",
        "\n",
        "salidas = np.array([[32, 212],\n",
        "                    [50, 122],\n",
        "                    [68, 154],\n",
        "                    [86, 186],\n",
        "                    [104, 219],\n",
        "                    [122, 251],\n",
        "                    [140, 284]])\n",
        "\n",
        "# Definir la arquitectura de la red neuronal\n",
        "model = tf.keras.models.Sequential([\n",
        "    tf.keras.layers.Dense(3, activation='relu', input_shape=(7,)),\n",
        "    tf.keras.layers.Dense(3, activation='relu'),\n",
        "    tf.keras.layers.Dense(2)  # Capa de salida sin función de activación\n",
        "])\n",
        "\n",
        "# Compilar el modelo\n",
        "model.compile(optimizer='adam', loss='mse')\n",
        "\n",
        "# Entrenar la red neuronal\n",
        "model.fit(entradas, salidas, epochs=7)\n",
        "\n",
        "# Realizar predicciones\n",
        "while True:\n",
        "    entrada_usuario = input(\"Introduce los 7 bits de entrada (0 o 1 separados por espacios): \")\n",
        "    entrada_usuario = np.array(entrada_usuario.split(), dtype=np.float32)\n",
        "\n",
        "    if len(entrada_usuario) != 7:\n",
        "        print(\"¡Error! Debes introducir exactamente 7 bits de entrada.\")\n",
        "        continue\n",
        "\n",
        "    prediccion = model.predict(np.array([entrada_usuario]))\n",
        "    celsius = prediccion[0, 0]\n",
        "    fahrenheit = prediccion[0, 1]\n",
        "\n",
        "    print(f\"Grados Celsius: {celsius}\")\n",
        "    print(f\"Grados Fahrenheit: {fahrenheit}\")\n"
      ]
    }
  ]
}