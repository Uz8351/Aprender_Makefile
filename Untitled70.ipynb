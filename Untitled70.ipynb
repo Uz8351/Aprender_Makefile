{
  "nbformat": 4,
  "nbformat_minor": 0,
  "metadata": {
    "colab": {
      "provenance": [],
      "authorship_tag": "ABX9TyMX7gvbN2+ZP+4b7hmKnkYM",
      "include_colab_link": true
    },
    "kernelspec": {
      "name": "python3",
      "display_name": "Python 3"
    },
    "language_info": {
      "name": "python"
    }
  },
  "cells": [
    {
      "cell_type": "markdown",
      "metadata": {
        "id": "view-in-github",
        "colab_type": "text"
      },
      "source": [
        "<a href=\"https://colab.research.google.com/github/Uz8351/Aprender_Makefile/blob/main/Untitled70.ipynb\" target=\"_parent\"><img src=\"https://colab.research.google.com/assets/colab-badge.svg\" alt=\"Open In Colab\"/></a>"
      ]
    },
    {
      "cell_type": "code",
      "execution_count": 1,
      "metadata": {
        "colab": {
          "base_uri": "https://localhost:8080/"
        },
        "id": "FXEKahKU8UA_",
        "outputId": "69b1df25-762d-4b2c-8f67-5356376cca01"
      },
      "outputs": [
        {
          "output_type": "stream",
          "name": "stdout",
          "text": [
            "Introduce una cadena de texto: me llamo hilario el puntina\n",
            "Cadena invertida: anitnup le oiralih omall em\n",
            "Número de vocales en la cadena: 11\n"
          ]
        }
      ],
      "source": [
        "def invertir_cadena(cadena):\n",
        "    \"\"\"\n",
        "    Invierte una cadena de texto.\n",
        "\n",
        "    Args:\n",
        "    cadena (str): La cadena que se desea invertir.\n",
        "\n",
        "    Returns:\n",
        "    str: La cadena invertida.\n",
        "    \"\"\"\n",
        "    return cadena[::-1]  # Invertir la cadena usando slicing\n",
        "\n",
        "def contar_vocales(cadena):\n",
        "    \"\"\"\n",
        "    Cuenta cuántas vocales hay en una cadena de texto.\n",
        "\n",
        "    Args:\n",
        "    cadena (str): La cadena en la que se contarán las vocales.\n",
        "\n",
        "    Returns:\n",
        "    int: El número de vocales en la cadena.\n",
        "    \"\"\"\n",
        "    vocales = \"aeiouAEIOU\"\n",
        "    contador = 0\n",
        "    for caracter in cadena:\n",
        "        if caracter in vocales:\n",
        "            contador += 1\n",
        "    return contador\n",
        "\n",
        "# Llamada a las funciones\n",
        "texto = input(\"Introduce una cadena de texto: \")\n",
        "\n",
        "# Llamar a la función para invertir la cadena\n",
        "cadena_invertida = invertir_cadena(texto)\n",
        "print(f\"Cadena invertida: {cadena_invertida}\")\n",
        "\n",
        "# Llamar a la función para contar las vocales\n",
        "numero_vocales = contar_vocales(texto)\n",
        "print(f\"Número de vocales en la cadena: {numero_vocales}\")\n"
      ]
    }
  ]
}