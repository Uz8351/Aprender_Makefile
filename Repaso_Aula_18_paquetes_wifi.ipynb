{
  "nbformat": 4,
  "nbformat_minor": 0,
  "metadata": {
    "colab": {
      "provenance": [],
      "authorship_tag": "ABX9TyOxru1ynRPf1Vvd9X//lJRe",
      "include_colab_link": true
    },
    "kernelspec": {
      "name": "python3",
      "display_name": "Python 3"
    },
    "language_info": {
      "name": "python"
    }
  },
  "cells": [
    {
      "cell_type": "markdown",
      "metadata": {
        "id": "view-in-github",
        "colab_type": "text"
      },
      "source": [
        "<a href=\"https://colab.research.google.com/github/Uz8351/Aprender_Makefile/blob/main/Repaso_Aula_18_paquetes_wifi.ipynb\" target=\"_parent\"><img src=\"https://colab.research.google.com/assets/colab-badge.svg\" alt=\"Open In Colab\"/></a>"
      ]
    },
    {
      "cell_type": "code",
      "execution_count": 2,
      "metadata": {
        "colab": {
          "base_uri": "https://localhost:8080/",
          "height": 463
        },
        "id": "lQPpNVw_D71p",
        "outputId": "eab70ead-33ad-495d-9f18-f10072e06af6"
      },
      "outputs": [
        {
          "output_type": "stream",
          "name": "stdout",
          "text": [
            "Collecting scapy\n",
            "  Downloading scapy-2.6.0-py3-none-any.whl.metadata (5.6 kB)\n",
            "Downloading scapy-2.6.0-py3-none-any.whl (2.4 MB)\n",
            "\u001b[?25l   \u001b[90m━━━━━━━━━━━━━━━━━━━━━━━━━━━━━━━━━━━━━━━━\u001b[0m \u001b[32m0.0/2.4 MB\u001b[0m \u001b[31m?\u001b[0m eta \u001b[36m-:--:--\u001b[0m\r\u001b[2K   \u001b[91m━━━━━━━━━━━━━━━━━━━━━━━━━━━━━━━━━━━━━━━\u001b[0m\u001b[91m╸\u001b[0m \u001b[32m2.4/2.4 MB\u001b[0m \u001b[31m117.1 MB/s\u001b[0m eta \u001b[36m0:00:01\u001b[0m\r\u001b[2K   \u001b[90m━━━━━━━━━━━━━━━━━━━━━━━━━━━━━━━━━━━━━━━━\u001b[0m \u001b[32m2.4/2.4 MB\u001b[0m \u001b[31m59.1 MB/s\u001b[0m eta \u001b[36m0:00:00\u001b[0m\n",
            "\u001b[?25hInstalling collected packages: scapy\n",
            "Successfully installed scapy-2.6.0\n",
            "Capturando tráfico en la interfaz: wlo1\n"
          ]
        },
        {
          "output_type": "error",
          "ename": "ValueError",
          "evalue": "Interface 'wlo1' not found !",
          "traceback": [
            "\u001b[0;31m---------------------------------------------------------------------------\u001b[0m",
            "\u001b[0;31mValueError\u001b[0m                                Traceback (most recent call last)",
            "\u001b[0;32m<ipython-input-2-21242dd3e3fd>\u001b[0m in \u001b[0;36m<cell line: 106>\u001b[0;34m()\u001b[0m\n\u001b[1;32m    104\u001b[0m \u001b[0;31m# Iniciar captura de tráfico en la interfaz WiFi\u001b[0m\u001b[0;34m\u001b[0m\u001b[0;34m\u001b[0m\u001b[0m\n\u001b[1;32m    105\u001b[0m \u001b[0mprint\u001b[0m\u001b[0;34m(\u001b[0m\u001b[0;34mf\"Capturando tráfico en la interfaz: {wifi_interface}\"\u001b[0m\u001b[0;34m)\u001b[0m\u001b[0;34m\u001b[0m\u001b[0;34m\u001b[0m\u001b[0m\n\u001b[0;32m--> 106\u001b[0;31m \u001b[0msniff\u001b[0m\u001b[0;34m(\u001b[0m\u001b[0miface\u001b[0m\u001b[0;34m=\u001b[0m\u001b[0mwifi_interface\u001b[0m\u001b[0;34m,\u001b[0m \u001b[0mprn\u001b[0m\u001b[0;34m=\u001b[0m\u001b[0mpacket_callback\u001b[0m\u001b[0;34m,\u001b[0m \u001b[0mstore\u001b[0m\u001b[0;34m=\u001b[0m\u001b[0;36m0\u001b[0m\u001b[0;34m)\u001b[0m\u001b[0;34m\u001b[0m\u001b[0;34m\u001b[0m\u001b[0m\n\u001b[0m",
            "\u001b[0;32m/usr/local/lib/python3.10/dist-packages/scapy/sendrecv.py\u001b[0m in \u001b[0;36msniff\u001b[0;34m(*args, **kwargs)\u001b[0m\n\u001b[1;32m   1422\u001b[0m     \u001b[0;31m# type: (*Any, **Any) -> PacketList\u001b[0m\u001b[0;34m\u001b[0m\u001b[0;34m\u001b[0m\u001b[0m\n\u001b[1;32m   1423\u001b[0m     \u001b[0msniffer\u001b[0m \u001b[0;34m=\u001b[0m \u001b[0mAsyncSniffer\u001b[0m\u001b[0;34m(\u001b[0m\u001b[0;34m)\u001b[0m\u001b[0;34m\u001b[0m\u001b[0;34m\u001b[0m\u001b[0m\n\u001b[0;32m-> 1424\u001b[0;31m     \u001b[0msniffer\u001b[0m\u001b[0;34m.\u001b[0m\u001b[0m_run\u001b[0m\u001b[0;34m(\u001b[0m\u001b[0;34m*\u001b[0m\u001b[0margs\u001b[0m\u001b[0;34m,\u001b[0m \u001b[0;34m**\u001b[0m\u001b[0mkwargs\u001b[0m\u001b[0;34m)\u001b[0m\u001b[0;34m\u001b[0m\u001b[0;34m\u001b[0m\u001b[0m\n\u001b[0m\u001b[1;32m   1425\u001b[0m     \u001b[0;32mreturn\u001b[0m \u001b[0mcast\u001b[0m\u001b[0;34m(\u001b[0m\u001b[0mPacketList\u001b[0m\u001b[0;34m,\u001b[0m \u001b[0msniffer\u001b[0m\u001b[0;34m.\u001b[0m\u001b[0mresults\u001b[0m\u001b[0;34m)\u001b[0m\u001b[0;34m\u001b[0m\u001b[0;34m\u001b[0m\u001b[0m\n\u001b[1;32m   1426\u001b[0m \u001b[0;34m\u001b[0m\u001b[0m\n",
            "\u001b[0;32m/usr/local/lib/python3.10/dist-packages/scapy/sendrecv.py\u001b[0m in \u001b[0;36m_run\u001b[0;34m(self, count, store, offline, quiet, prn, lfilter, L2socket, timeout, opened_socket, stop_filter, iface, started_callback, session, chainCC, **karg)\u001b[0m\n\u001b[1;32m   1271\u001b[0m             \u001b[0;32melse\u001b[0m\u001b[0;34m:\u001b[0m\u001b[0;34m\u001b[0m\u001b[0;34m\u001b[0m\u001b[0m\n\u001b[1;32m   1272\u001b[0m                 \u001b[0miface\u001b[0m \u001b[0;34m=\u001b[0m \u001b[0miface\u001b[0m \u001b[0;32mor\u001b[0m \u001b[0mconf\u001b[0m\u001b[0;34m.\u001b[0m\u001b[0miface\u001b[0m\u001b[0;34m\u001b[0m\u001b[0;34m\u001b[0m\u001b[0m\n\u001b[0;32m-> 1273\u001b[0;31m                 sniff_sockets[_RL2(iface)(type=ETH_P_ALL, iface=iface,\n\u001b[0m\u001b[1;32m   1274\u001b[0m                                           **karg)] = iface\n\u001b[1;32m   1275\u001b[0m \u001b[0;34m\u001b[0m\u001b[0m\n",
            "\u001b[0;32m/usr/local/lib/python3.10/dist-packages/scapy/sendrecv.py\u001b[0m in \u001b[0;36m<lambda>\u001b[0;34m(i)\u001b[0m\n\u001b[1;32m   1256\u001b[0m         \u001b[0;32mif\u001b[0m \u001b[0;32mnot\u001b[0m \u001b[0msniff_sockets\u001b[0m \u001b[0;32mor\u001b[0m \u001b[0miface\u001b[0m \u001b[0;32mis\u001b[0m \u001b[0;32mnot\u001b[0m \u001b[0;32mNone\u001b[0m\u001b[0;34m:\u001b[0m\u001b[0;34m\u001b[0m\u001b[0;34m\u001b[0m\u001b[0m\n\u001b[1;32m   1257\u001b[0m             \u001b[0;31m# The _RL2 function resolves the L2socket of an iface\u001b[0m\u001b[0;34m\u001b[0m\u001b[0;34m\u001b[0m\u001b[0m\n\u001b[0;32m-> 1258\u001b[0;31m             \u001b[0m_RL2\u001b[0m \u001b[0;34m=\u001b[0m \u001b[0;32mlambda\u001b[0m \u001b[0mi\u001b[0m\u001b[0;34m:\u001b[0m \u001b[0mL2socket\u001b[0m \u001b[0;32mor\u001b[0m \u001b[0mresolve_iface\u001b[0m\u001b[0;34m(\u001b[0m\u001b[0mi\u001b[0m\u001b[0;34m)\u001b[0m\u001b[0;34m.\u001b[0m\u001b[0ml2listen\u001b[0m\u001b[0;34m(\u001b[0m\u001b[0;34m)\u001b[0m  \u001b[0;31m# type: Callable[[_GlobInterfaceType], Callable[..., SuperSocket]]  # noqa: E501\u001b[0m\u001b[0;34m\u001b[0m\u001b[0;34m\u001b[0m\u001b[0m\n\u001b[0m\u001b[1;32m   1259\u001b[0m             \u001b[0;32mif\u001b[0m \u001b[0misinstance\u001b[0m\u001b[0;34m(\u001b[0m\u001b[0miface\u001b[0m\u001b[0;34m,\u001b[0m \u001b[0mlist\u001b[0m\u001b[0;34m)\u001b[0m\u001b[0;34m:\u001b[0m\u001b[0;34m\u001b[0m\u001b[0;34m\u001b[0m\u001b[0m\n\u001b[1;32m   1260\u001b[0m                 sniff_sockets.update(\n",
            "\u001b[0;32m/usr/local/lib/python3.10/dist-packages/scapy/interfaces.py\u001b[0m in \u001b[0;36mresolve_iface\u001b[0;34m(dev, retry)\u001b[0m\n\u001b[1;32m    432\u001b[0m     \u001b[0;31m# Nothing found yet. Reload to detect if it was added recently\u001b[0m\u001b[0;34m\u001b[0m\u001b[0;34m\u001b[0m\u001b[0m\n\u001b[1;32m    433\u001b[0m     \u001b[0mconf\u001b[0m\u001b[0;34m.\u001b[0m\u001b[0mifaces\u001b[0m\u001b[0;34m.\u001b[0m\u001b[0mreload\u001b[0m\u001b[0;34m(\u001b[0m\u001b[0;34m)\u001b[0m\u001b[0;34m\u001b[0m\u001b[0;34m\u001b[0m\u001b[0m\n\u001b[0;32m--> 434\u001b[0;31m     \u001b[0;32mreturn\u001b[0m \u001b[0mresolve_iface\u001b[0m\u001b[0;34m(\u001b[0m\u001b[0mdev\u001b[0m\u001b[0;34m,\u001b[0m \u001b[0mretry\u001b[0m\u001b[0;34m=\u001b[0m\u001b[0;32mFalse\u001b[0m\u001b[0;34m)\u001b[0m\u001b[0;34m\u001b[0m\u001b[0;34m\u001b[0m\u001b[0m\n\u001b[0m\u001b[1;32m    435\u001b[0m \u001b[0;34m\u001b[0m\u001b[0m\n\u001b[1;32m    436\u001b[0m \u001b[0;34m\u001b[0m\u001b[0m\n",
            "\u001b[0;32m/usr/local/lib/python3.10/dist-packages/scapy/interfaces.py\u001b[0m in \u001b[0;36mresolve_iface\u001b[0;34m(dev, retry)\u001b[0m\n\u001b[1;32m    429\u001b[0m             \u001b[0;32mpass\u001b[0m\u001b[0;34m\u001b[0m\u001b[0;34m\u001b[0m\u001b[0m\n\u001b[1;32m    430\u001b[0m     \u001b[0;32mif\u001b[0m \u001b[0;32mnot\u001b[0m \u001b[0mretry\u001b[0m\u001b[0;34m:\u001b[0m\u001b[0;34m\u001b[0m\u001b[0;34m\u001b[0m\u001b[0m\n\u001b[0;32m--> 431\u001b[0;31m         \u001b[0;32mraise\u001b[0m \u001b[0mValueError\u001b[0m\u001b[0;34m(\u001b[0m\u001b[0;34m\"Interface '%s' not found !\"\u001b[0m \u001b[0;34m%\u001b[0m \u001b[0mdev\u001b[0m\u001b[0;34m)\u001b[0m\u001b[0;34m\u001b[0m\u001b[0;34m\u001b[0m\u001b[0m\n\u001b[0m\u001b[1;32m    432\u001b[0m     \u001b[0;31m# Nothing found yet. Reload to detect if it was added recently\u001b[0m\u001b[0;34m\u001b[0m\u001b[0;34m\u001b[0m\u001b[0m\n\u001b[1;32m    433\u001b[0m     \u001b[0mconf\u001b[0m\u001b[0;34m.\u001b[0m\u001b[0mifaces\u001b[0m\u001b[0;34m.\u001b[0m\u001b[0mreload\u001b[0m\u001b[0;34m(\u001b[0m\u001b[0;34m)\u001b[0m\u001b[0;34m\u001b[0m\u001b[0;34m\u001b[0m\u001b[0m\n",
            "\u001b[0;31mValueError\u001b[0m: Interface 'wlo1' not found !"
          ]
        }
      ],
      "source": [
        "\n",
        "!pip install scapy\n",
        "\n",
        "from scapy.all import *\n",
        "import binascii\n",
        "\n",
        "# Función para procesar y mostrar cada paquete capturado con formato estructurado\n",
        "def packet_callback(packet):\n",
        "    try:\n",
        "        print(\"\\n\" + \"=\"*60)\n",
        "        print(\"Paquete Capturado:\")\n",
        "        print(\"=\"*60)\n",
        "\n",
        "        # Capa Ethernet\n",
        "        if packet.haslayer(Ether):\n",
        "            ether = packet[Ether]\n",
        "            print(f\"  [Ethernet]\")\n",
        "            print(f\"    - MAC Origen: {ether.src}\")\n",
        "            print(f\"    - MAC Destino: {ether.dst}\")\n",
        "            print(f\"    - Tipo: {ether.type}\")\n",
        "\n",
        "        # Capa ARP\n",
        "        if packet.haslayer(ARP):\n",
        "            arp = packet[ARP]\n",
        "            print(f\"  [ARP]\")\n",
        "            print(f\"    - IP Origen: {arp.psrc}\")\n",
        "            print(f\"    - IP Destino: {arp.pdst}\")\n",
        "            print(f\"    - MAC Origen: {arp.hwsrc}\")\n",
        "            print(f\"    - MAC Destino: {arp.hwdst}\")\n",
        "            print(f\"    - Operación: {arp.op}\")\n",
        "\n",
        "        # Capa IP\n",
        "        if packet.haslayer(IP):\n",
        "            ip = packet[IP]\n",
        "            print(f\"  [IP]\")\n",
        "            print(f\"    - IP Origen: {ip.src}\")\n",
        "            print(f\"    - IP Destino: {ip.dst}\")\n",
        "            print(f\"    - Versión: {ip.version}\")\n",
        "            print(f\"    - Protocolo: {ip.proto}\")\n",
        "            print(f\"    - TTL: {ip.ttl}\")\n",
        "            print(f\"    - Longitud Total: {ip.len}\")\n",
        "\n",
        "        # Capa ICMP\n",
        "        if packet.haslayer(ICMP):\n",
        "            icmp = packet[ICMP]\n",
        "            print(f\"  [ICMP]\")\n",
        "            print(f\"    - Tipo: {icmp.type}\")\n",
        "            print(f\"    - Código: {icmp.code}\")\n",
        "            print(f\"    - Checksum: {icmp.chksum}\")\n",
        "\n",
        "        # Capa TCP\n",
        "        if packet.haslayer(TCP):\n",
        "            tcp = packet[TCP]\n",
        "            print(f\"  [TCP]\")\n",
        "            print(f\"    - Puerto Origen: {tcp.sport}\")\n",
        "            print(f\"    - Puerto Destino: {tcp.dport}\")\n",
        "            print(f\"    - Número de Secuencia: {tcp.seq}\")\n",
        "            print(f\"    - Número de Acknowledgment: {tcp.ack}\")\n",
        "            print(f\"    - Flags: {tcp.flags}\")\n",
        "            print(f\"    - Ventana: {tcp.window}\")\n",
        "\n",
        "        # Capa UDP\n",
        "        if packet.haslayer(UDP):\n",
        "            udp = packet[UDP]\n",
        "            print(f\"  [UDP]\")\n",
        "            print(f\"    - Puerto Origen: {udp.sport}\")\n",
        "            print(f\"    - Puerto Destino: {udp.dport}\")\n",
        "            print(f\"    - Longitud: {udp.len}\")\n",
        "\n",
        "        # Capa DNS\n",
        "        if packet.haslayer(DNS):\n",
        "            dns = packet[DNS]\n",
        "            print(f\"  [DNS]\")\n",
        "            print(f\"    - ID de la Transacción: {dns.id}\")\n",
        "            print(f\"    - Pregunta: {dns.qd.qname.decode() if dns.qd else 'N/A'}\")\n",
        "            print(f\"    - Respuesta: {dns.an.rdata.decode() if dns.an else 'N/A'}\")\n",
        "            print(f\"    - Número de Preguntas: {dns.qdcount}\")\n",
        "            print(f\"    - Número de Respuestas: {dns.ancount}\")\n",
        "            print(f\"    - Número de Servidores: {dns.nscount}\")\n",
        "            print(f\"    - Número de Registros Adicionales: {dns.arcount}\")\n",
        "\n",
        "        # Mostrar el contenido del mensaje en texto (si está disponible y es decodificable)\n",
        "        if packet.haslayer(Raw):\n",
        "            raw_data = packet[Raw].load\n",
        "            print(f\"  [Datos]\")\n",
        "            try:\n",
        "                # Intentamos decodificar la carga útil en texto\n",
        "                payload_text = raw_data.decode('utf-8', errors='ignore')\n",
        "                print(f\"    - Contenido en texto (legible): {payload_text}\")\n",
        "                print(f\"    - Longitud del mensaje: {len(raw_data)} bytes\")\n",
        "            except UnicodeDecodeError:\n",
        "                # Si no se puede decodificar, mostramos el contenido en hexadecimal\n",
        "                payload_hex = binascii.hexlify(raw_data).decode('ascii')\n",
        "                print(f\"    - Contenido en formato hexadecimal: {payload_hex}\")\n",
        "                print(f\"    - Longitud del mensaje: {len(raw_data)} bytes\")\n",
        "\n",
        "        print(\"=\"*60)\n",
        "\n",
        "    except Exception as e:\n",
        "        print(f\"Error procesando paquete: {e}\")\n",
        "\n",
        "# Nombre de la interfaz WiFi correcto\n",
        "wifi_interface = \"wlo1\"\n",
        "\n",
        "# Iniciar captura de tráfico en la interfaz WiFi\n",
        "print(f\"Capturando tráfico en la interfaz: {wifi_interface}\")\n",
        "sniff(iface=wifi_interface, prn=packet_callback, store=0)\n"
      ]
    }
  ]
}