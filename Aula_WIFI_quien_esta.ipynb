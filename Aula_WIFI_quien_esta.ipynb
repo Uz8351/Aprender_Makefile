{
  "nbformat": 4,
  "nbformat_minor": 0,
  "metadata": {
    "colab": {
      "provenance": [],
      "authorship_tag": "ABX9TyO8ZTeKf/hSwkTQ4yxkoTmY",
      "include_colab_link": true
    },
    "kernelspec": {
      "name": "python3",
      "display_name": "Python 3"
    },
    "language_info": {
      "name": "python"
    }
  },
  "cells": [
    {
      "cell_type": "markdown",
      "metadata": {
        "id": "view-in-github",
        "colab_type": "text"
      },
      "source": [
        "<a href=\"https://colab.research.google.com/github/Uz8351/Aprender_Makefile/blob/main/Aula_WIFI_quien_esta.ipynb\" target=\"_parent\"><img src=\"https://colab.research.google.com/assets/colab-badge.svg\" alt=\"Open In Colab\"/></a>"
      ]
    },
    {
      "cell_type": "code",
      "execution_count": 1,
      "metadata": {
        "colab": {
          "base_uri": "https://localhost:8080/"
        },
        "id": "8smfBveNP88T",
        "outputId": "b067024e-2e50-4449-ff3c-2e024c1b3d7d"
      },
      "outputs": [
        {
          "output_type": "stream",
          "name": "stdout",
          "text": [
            "Obteniendo la interfaz de red activa...\n",
            "Ejecutando 'ip link' para obtener la interfaz de red...\n",
            "Salida completa de 'ip link':\n",
            "1: lo: <LOOPBACK,UP,LOWER_UP> mtu 65536 qdisc noqueue state UNKNOWN mode DEFAULT group default qlen 1000\n",
            "    link/loopback 00:00:00:00:00:00 brd 00:00:00:00:00:00\n",
            "9: eth0@if10: <BROADCAST,MULTICAST,UP,LOWER_UP> mtu 1500 qdisc noqueue state UP mode DEFAULT group default \n",
            "    link/ether 02:42:ac:1c:00:0c brd ff:ff:ff:ff:ff:ff link-netnsid 0\n",
            "\n",
            "No se encontraron interfaces de red activas.\n",
            "No se encontró ninguna interfaz de red activa. Verifica tu conexión.\n"
          ]
        }
      ],
      "source": [
        "import subprocess\n",
        "import re\n",
        "import getpass\n",
        "\n",
        "def get_network_interface():\n",
        "    try:\n",
        "        # Ejecutar 'ip link' para obtener las interfaces de red\n",
        "        print(\"Ejecutando 'ip link' para obtener la interfaz de red...\")\n",
        "        result = subprocess.run(['ip', 'link'], capture_output=True, text=True)\n",
        "\n",
        "        if result.returncode != 0:\n",
        "            print(\"Error al ejecutar ip link:\", result.stderr)\n",
        "            return None\n",
        "\n",
        "        # Imprimir la salida completa para depuración\n",
        "        print(\"Salida completa de 'ip link':\")\n",
        "        print(result.stdout)\n",
        "\n",
        "        # Usar una expresión regular para encontrar interfaces que estén activas (estado UP)\n",
        "        interfaces = re.findall(r'\\d+: (\\w+):.*state UP', result.stdout)\n",
        "\n",
        "        if interfaces:\n",
        "            # Retornar la primera interfaz que esté en estado UP\n",
        "            return interfaces[0]\n",
        "        else:\n",
        "            print(\"No se encontraron interfaces de red activas.\")\n",
        "            return None\n",
        "\n",
        "    except Exception as e:\n",
        "        print(f\"Error al obtener la interfaz de red: {e}\")\n",
        "        return None\n",
        "\n",
        "def scan_network(interface):\n",
        "    try:\n",
        "        # Pedir la contraseña del superusuario\n",
        "        password = getpass.getpass(\"Introduce la contraseña de sudo: \")\n",
        "\n",
        "        # Ejecutar el comando 'arp-scan' especificando la interfaz con sudo -S\n",
        "        print(f\"Ejecutando 'arp-scan' en la interfaz {interface}...\")\n",
        "\n",
        "        # Usar subprocess.Popen para pasar la contraseña al comando sudo\n",
        "        process = subprocess.Popen(['sudo', '-S', 'arp-scan', '-I', interface, '-l'],\n",
        "                                   stdin=subprocess.PIPE,\n",
        "                                   stdout=subprocess.PIPE,\n",
        "                                   stderr=subprocess.PIPE,\n",
        "                                   text=True)\n",
        "\n",
        "        # Pasar la contraseña al proceso\n",
        "        stdout, stderr = process.communicate(input=password + '\\n')\n",
        "\n",
        "        # Imprimir la salida del escaneo\n",
        "        if process.returncode == 0:\n",
        "            print(\"Dispositivos conectados a la red:\")\n",
        "            print(stdout)\n",
        "        else:\n",
        "            print(f\"Error al ejecutar arp-scan: {stderr}\")\n",
        "\n",
        "    except Exception as e:\n",
        "        print(f\"Hubo un error al escanear la red: {e}\")\n",
        "\n",
        "if __name__ == \"__main__\":\n",
        "    print(\"Obteniendo la interfaz de red activa...\")\n",
        "    interface = get_network_interface()\n",
        "\n",
        "    if interface:\n",
        "        print(f\"Interfaz de red activa: {interface}\")\n",
        "        print(\"Escaneando dispositivos conectados a la red Wi-Fi...\")\n",
        "        scan_network(interface)\n",
        "    else:\n",
        "        print(\"No se encontró ninguna interfaz de red activa. Verifica tu conexión.\")\n"
      ]
    }
  ]
}